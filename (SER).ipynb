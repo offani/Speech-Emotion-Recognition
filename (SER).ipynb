{
  "nbformat": 4,
  "nbformat_minor": 0,
  "metadata": {
    "kernelspec": {
      "display_name": "Python 3",
      "language": "python",
      "name": "python3"
    },
    "language_info": {
      "codemirror_mode": {
        "name": "ipython",
        "version": 3
      },
      "file_extension": ".py",
      "mimetype": "text/x-python",
      "name": "python",
      "nbconvert_exporter": "python",
      "pygments_lexer": "ipython3",
      "version": "3.8.5"
    },
    "colab": {
      "name": "(SER).ipynb",
      "provenance": [],
      "include_colab_link": true
    }
  },
  "cells": [
    {
      "cell_type": "markdown",
      "metadata": {
        "id": "view-in-github",
        "colab_type": "text"
      },
      "source": [
        "<a href=\"https://colab.research.google.com/github/offani/Speech-Emotion-Recognition/blob/main/(SER).ipynb\" target=\"_parent\"><img src=\"https://colab.research.google.com/assets/colab-badge.svg\" alt=\"Open In Colab\"/></a>"
      ]
    },
    {
      "cell_type": "markdown",
      "metadata": {
        "id": "loqzxlrjVhhR"
      },
      "source": [
        "#  Speech Emotion Recognition\n",
        "\n"
      ]
    },
    {
      "cell_type": "code",
      "metadata": {
        "id": "YNX2ix8QVhhV"
      },
      "source": [
        "import librosa\n",
        "import soundfile\n",
        "import pandas as pd\n",
        "import os, glob, pickle\n",
        "import numpy as np\n",
        "from tqdm import tqdm\n",
        "from scipy.io import wavfile\n",
        "import matplotlib.pyplot as plt\n",
        "from sklearn.model_selection import train_test_split\n",
        "from sklearn.neural_network import MLPClassifier\n",
        "from sklearn.metrics import accuracy_score"
      ],
      "execution_count": null,
      "outputs": []
    },
    {
      "cell_type": "markdown",
      "metadata": {
        "id": "S7mkHVILVhhV"
      },
      "source": [
        "# Loading the Dataset (Ravdess)"
      ]
    },
    {
      "cell_type": "code",
      "metadata": {
        "id": "NFPUqeHxVhhW"
      },
      "source": [
        "os.listdir(path='.\\Ravdess Dataset')\n",
        "def getListOfFiles(dirName):\n",
        "    listOfFile=os.listdir(dirName)\n",
        "    allFiles=list()\n",
        "    for entry in listOfFile:\n",
        "        fullPath=os.path.join(dirName, entry)\n",
        "        if os.path.isdir(fullPath):\n",
        "            allFiles=allFiles + getListOfFiles(fullPath)\n",
        "        else:\n",
        "            allFiles.append(fullPath)\n",
        "    return allFiles\n",
        "\n",
        "dirName = './Ravdess Dataset'\n",
        "listOfFiles = getListOfFiles(dirName)\n",
        "len(listOfFiles)"
      ],
      "execution_count": null,
      "outputs": []
    },
    {
      "cell_type": "markdown",
      "metadata": {
        "id": "vyNmYgx1VhhX"
      },
      "source": [
        "# Now Cleaning Step is Performed where: \n",
        "#### DOWN SAMPLING OF AUDIO FILES IS DONE  AND PUT MASK OVER IT AND DIRECT INTO CLEAN FOLDER\n",
        "#### MASK IS TO REMOVE UNNECESSARY EMPTY VOIVES AROUND THE MAIN AUDIO VOICE \n"
      ]
    },
    {
      "cell_type": "code",
      "metadata": {
        "id": "gBVCP-WSVhhX"
      },
      "source": [
        "def envelope(y , rate, threshold):\n",
        "    mask=[]\n",
        "    y=pd.Series(y).apply(np.abs)\n",
        "    y_mean = y.rolling(window=int(rate/10) ,  min_periods=1 , center = True).mean()\n",
        "    for mean in y_mean:\n",
        "        if mean>threshold:\n",
        "            mask.append(True)\n",
        "        else:\n",
        "            mask.append(False)\n",
        "    return mask"
      ],
      "execution_count": null,
      "outputs": []
    },
    {
      "cell_type": "markdown",
      "metadata": {
        "id": "BnUrQWj-VhhY"
      },
      "source": [
        "# Plotting the Basic Graphs for understanding of Audio Files :\n",
        " ## 1) Spectogram"
      ]
    },
    {
      "cell_type": "code",
      "metadata": {
        "id": "cBATs0DDVhhY"
      },
      "source": [
        "# for file in range(0 , len(listOfFiles) , 1):\n",
        "#     audio , sfreq = librosa.load(listOfFiles[file])\n",
        "#     time = np.arange(0 , len(audio)) / sfreq\n",
        "    \n",
        "#     fig ,ax = plt.subplots()\n",
        "#     ax.plot(time , audio)\n",
        "#     ax.set(xlabel = 'Time  in (s)' , ylabel = 'Amplitude')\n",
        "#     plt.show()\n",
        "    \n",
        "# #PLOT THE SEPCTOGRAM\n",
        "# for file in range(0 , len(listOfFiles) , 1):\n",
        "#      sample_rate , samples = wavfile.read(listOfFiles[file])\n",
        "#      frequencies , times, spectrogram = signal.spectrogram(samples, sample_rate) \n",
        "#      plt.pcolormesh(times, frequencies, spectrogram)\n",
        "#      plt.imshow(spectrogram)\n",
        "#      plt.ylabel('Frequency [Hz]')\n",
        "#      plt.xlabel('Time [sec]')\n",
        "#      plt.show()"
      ],
      "execution_count": null,
      "outputs": []
    },
    {
      "cell_type": "markdown",
      "metadata": {
        "id": "_msH47kIVhhY"
      },
      "source": [
        "# Cleaning the data for efficiency"
      ]
    },
    {
      "cell_type": "code",
      "metadata": {
        "id": "WdwVf-nKVhhZ"
      },
      "source": [
        "#Now Cleaning Step is Performed where:\n",
        "#DOWN SAMPLING OF AUDIO FILES IS DONE  AND PUT MASK OVER IT AND DIRECT INTO CLEAN FOLDER\n",
        "#MASK IS TO REMOVE UNNECESSARY EMPTY VOIVES AROUND THE MAIN AUDIO VOICE \n",
        "def envelope(y , rate, threshold):\n",
        "    mask=[]\n",
        "    y=pd.Series(y).apply(np.abs)\n",
        "    y_mean = y.rolling(window=int(rate/10) ,  min_periods=1 , center = True).mean()\n",
        "    for mean in y_mean:\n",
        "        if mean>threshold:\n",
        "            mask.append(True)\n",
        "        else:\n",
        "            mask.append(False)\n",
        "    return mask\n",
        "\n",
        "\n",
        "#The clean Audio Files are redirected to Clean Audio Folder Directory \n",
        "import glob,pickle\n",
        "for file in tqdm(glob.glob(r'C:\\Users\\User\\Downloads/Ravdess Dataset\\\\**\\\\*.wav')):\n",
        "    file_name = os.path.basename(file)\n",
        "    signal , rate = librosa.load(file, sr=16000)\n",
        "    mask = envelope(signal,rate, 0.0005)\n",
        "    wavfile.write(filename= r'C:\\Users\\User\\Downloads\\clean_speech\\\\'+str(file_name), rate=rate,data=signal[mask])"
      ],
      "execution_count": null,
      "outputs": []
    },
    {
      "cell_type": "markdown",
      "metadata": {
        "id": "5wkZaha4VhhZ"
      },
      "source": [
        "# Extract features (mfcc, chroma, mel) from a sound file"
      ]
    },
    {
      "cell_type": "code",
      "metadata": {
        "id": "AS_R-zJSVhha"
      },
      "source": [
        "def extract_feature(file_name, mfcc, chroma, mel):\n",
        "    with soundfile.SoundFile(file_name) as sound_file:\n",
        "        X = sound_file.read(dtype=\"float32\")\n",
        "        sample_rate=sound_file.samplerate\n",
        "        if chroma:\n",
        "            stft=np.abs(librosa.stft(X))\n",
        "        result=np.array([])\n",
        "        if mfcc:\n",
        "            mfccs=np.mean(librosa.feature.mfcc(y=X, sr=sample_rate, n_mfcc=40).T, axis=0)\n",
        "        result=np.hstack((result, mfccs))\n",
        "        if chroma:\n",
        "            chroma=np.mean(librosa.feature.chroma_stft(S=stft, sr=sample_rate).T,axis=0)\n",
        "        result=np.hstack((result, chroma))\n",
        "        if mel:\n",
        "            mel=np.mean(librosa.feature.melspectrogram(X, sr=sample_rate).T,axis=0)\n",
        "        result=np.hstack((result, mel))\n",
        "    return result"
      ],
      "execution_count": null,
      "outputs": []
    },
    {
      "cell_type": "markdown",
      "metadata": {
        "id": "9wCgmnfPVhha"
      },
      "source": [
        "# Emptions in the dataset"
      ]
    },
    {
      "cell_type": "code",
      "metadata": {
        "id": "ihZXmMYNVhha"
      },
      "source": [
        "emotions={\n",
        "  '01':'neutral',\n",
        "  '02':'calm',\n",
        "  '03':'happy',\n",
        "  '04':'sad',\n",
        "  '05':'angry',\n",
        "  '06':'fearful',\n",
        "  '07':'disgust',\n",
        "  '08':'surprised'\n",
        "}\n",
        "#These are the emotions User wants to observe more :\n",
        "observed_emotions=['calm', 'happy', 'angry', 'disgust']"
      ],
      "execution_count": null,
      "outputs": []
    },
    {
      "cell_type": "markdown",
      "metadata": {
        "id": "ItJ85w6KVhhb"
      },
      "source": [
        "# Loading the clean data and extracting the data from it "
      ]
    },
    {
      "cell_type": "code",
      "metadata": {
        "id": "1uURCzvQVhhb"
      },
      "source": [
        "from glob import glob\n",
        "import os\n",
        "import glob\n",
        "def load_data(test_size=0.33):\n",
        "    x,y=[],[]\n",
        "    answer = 0\n",
        "    for file in glob.glob(r'C:\\Users\\User\\Downloads\\clean_speech\\\\*.wav'):\n",
        "        file_name=os.path.basename(file)\n",
        "        emotion=emotions[file_name.split(\"-\")[2]]\n",
        "        if emotion not in observed_emotions:\n",
        "            answer += 1\n",
        "            continue\n",
        "        feature=extract_feature(file, mfcc=True, chroma=True, mel=True)\n",
        "        x.append(feature)\n",
        "        y.append([emotion,file_name])\n",
        "    return train_test_split(np.array(x), y, test_size=test_size, random_state=0)"
      ],
      "execution_count": null,
      "outputs": []
    },
    {
      "cell_type": "markdown",
      "metadata": {
        "id": "QYDclESgVhhc"
      },
      "source": [
        "#  Splittin the dataset into test and trial data"
      ]
    },
    {
      "cell_type": "code",
      "metadata": {
        "id": "yyyeFrVoVhhc"
      },
      "source": [
        "x_train,x_test,y_train,y_test=load_data(test_size=0.25)\n",
        "print(np.shape(x_train),np.shape(x_test), np.shape(y_train),np.shape(y_test))\n",
        "y_test_map = np.array(y_test).T\n",
        "y_test = y_test_map[0]\n",
        "test_filename = y_test_map[1]\n",
        "y_train_map = np.array(y_train).T\n",
        "y_train = y_train_map[0]\n",
        "train_filename = y_train_map[1]\n",
        "print(np.shape(y_train),np.shape(y_test))\n",
        "print(*test_filename,sep=\"\\n\")"
      ],
      "execution_count": null,
      "outputs": []
    },
    {
      "cell_type": "markdown",
      "metadata": {
        "id": "SBIo8rngVhhc"
      },
      "source": [
        "# Initialize the Multi Layer Perceptron Classifier "
      ]
    },
    {
      "cell_type": "code",
      "metadata": {
        "id": "CbrzCJMvVhhc"
      },
      "source": [
        "model=MLPClassifier(alpha=0.01, batch_size=256, epsilon=1e-08, hidden_layer_sizes=(300,), learning_rate='adaptive', max_iter=500)"
      ],
      "execution_count": null,
      "outputs": []
    },
    {
      "cell_type": "markdown",
      "metadata": {
        "id": "WWY0d2IYVhhd"
      },
      "source": [
        "# train the model  "
      ]
    },
    {
      "cell_type": "code",
      "metadata": {
        "id": "0HDpOK3qVhhd"
      },
      "source": [
        "\n",
        "model.fit(x_train,y_train)"
      ],
      "execution_count": null,
      "outputs": []
    },
    {
      "cell_type": "markdown",
      "metadata": {
        "id": "0YbiIQLqVhhd"
      },
      "source": [
        "# Saving this model for future use"
      ]
    },
    {
      "cell_type": "code",
      "metadata": {
        "id": "ggfM2Vx-Vhhd"
      },
      "source": [
        "import pickle\n",
        "# Save the Modle to file in the current working directory\n",
        "#For any new testing data other than the data in dataset\n",
        "\n",
        "Pkl_Filename = \"VoiceEmotionRecogModel.pkl\"  \n",
        "\n",
        "with open(Pkl_Filename, 'wb') as file:  \n",
        "    pickle.dump(model, file)"
      ],
      "execution_count": null,
      "outputs": []
    },
    {
      "cell_type": "markdown",
      "metadata": {
        "id": "5-GEvY4fVhhe"
      },
      "source": [
        "# Loading the Saved Model back for using "
      ]
    },
    {
      "cell_type": "code",
      "metadata": {
        "id": "vY4G0x0HVhhe"
      },
      "source": [
        "# Load the Model back from file\n",
        "Pkl_Filename = \"VoiceEmotionRecogModel.pkl\"\n",
        "with open(Pkl_Filename, 'rb') as file:  \n",
        "    VoiceEmotionRecogModel = pickle.load(file)\n",
        "\n",
        "VoiceEmotionRecogModel"
      ],
      "execution_count": null,
      "outputs": []
    },
    {
      "cell_type": "markdown",
      "metadata": {
        "id": "SuFoq4keVhhe"
      },
      "source": [
        "# Predicting the y_test values using the loaded Model"
      ]
    },
    {
      "cell_type": "code",
      "metadata": {
        "id": "MUmbko3lVhhe"
      },
      "source": [
        "#predicting :\n",
        "y_pred=VoiceEmotionRecogModel.predict(x_test)\n",
        "y_pred"
      ],
      "execution_count": null,
      "outputs": []
    },
    {
      "cell_type": "markdown",
      "metadata": {
        "id": "JagsfZUXVhhf"
      },
      "source": [
        "#  Testing the accuracy of this Model "
      ]
    },
    {
      "cell_type": "code",
      "metadata": {
        "id": "oeRiRdFGVhhf"
      },
      "source": [
        "from sklearn.metrics import accuracy_score\n",
        "\n",
        "accuracy=accuracy_score(y_true=y_test, y_pred=y_pred)\n",
        "\n",
        "print('Accuracy of this Model = ',accuracy*100,'%')"
      ],
      "execution_count": null,
      "outputs": []
    },
    {
      "cell_type": "markdown",
      "metadata": {
        "id": "_jU6_72OVhhf"
      },
      "source": [
        "# Saving the predictions in a .csv file "
      ]
    },
    {
      "cell_type": "code",
      "metadata": {
        "id": "-FPvlZgiVhhg"
      },
      "source": [
        "import pandas as pd\n",
        "y_pred1 = pd.DataFrame(y_pred , columns=['Predictions'])\n",
        "y_pred1['Name of Files'] = test_filename\n",
        "print(y_pred1)\n",
        "y_pred1.to_csv('FinalPredictions.csv')"
      ],
      "execution_count": null,
      "outputs": []
    },
    {
      "cell_type": "code",
      "metadata": {
        "id": "VmNdUM8WVhhg"
      },
      "source": [
        "y_pred1[:10]"
      ],
      "execution_count": null,
      "outputs": []
    },
    {
      "cell_type": "markdown",
      "metadata": {
        "id": "EZeXanpiVhhg"
      },
      "source": [
        "#  Demo \n"
      ]
    },
    {
      "cell_type": "code",
      "metadata": {
        "id": "2r3DEPYHVhhg"
      },
      "source": [
        "import pyaudio\n",
        "import wave\n",
        "\n",
        "CHUNK = 1024 \n",
        "FORMAT = pyaudio.paInt16 #paInt8\n",
        "CHANNELS = 2 \n",
        "RATE = 44100 #sample rate\n",
        "RECORD_SECONDS = 4\n",
        "WAVE_OUTPUT_FILENAME = \"recordedAudio.wav\"\n",
        "\n",
        "p = pyaudio.PyAudio()\n",
        "\n",
        "stream = p.open(format=FORMAT,\n",
        "                channels=CHANNELS,\n",
        "                rate=RATE,\n",
        "                input=True,\n",
        "                frames_per_buffer=CHUNK) #buffer\n",
        "\n",
        "print(\"* recording\")\n",
        "frames = []\n",
        "\n",
        "for i in range(0, int(RATE / CHUNK * RECORD_SECONDS)):\n",
        "    data = stream.read(CHUNK)\n",
        "    frames.append(data) # 2 bytes(16 bits) per channel\n",
        "\n",
        "print(\"* done recording\")\n",
        "\n",
        "stream.stop_stream()\n",
        "stream.close()\n",
        "p.terminate()\n",
        "\n",
        "wf = wave.open(WAVE_OUTPUT_FILENAME, 'wb')\n",
        "wf.setnchannels(CHANNELS)\n",
        "wf.setsampwidth(p.get_sample_size(FORMAT))\n",
        "wf.setframerate(RATE)\n",
        "wf.writeframes(b''.join(frames))\n",
        "wf.close()"
      ],
      "execution_count": null,
      "outputs": []
    },
    {
      "cell_type": "code",
      "metadata": {
        "id": "glOx7edcVhhh"
      },
      "source": [
        "data, sampling_rate = librosa.load('recordedAudio.wav')\n",
        "%matplotlib inline\n",
        "import os\n",
        "import pandas as pd\n",
        "import librosa.display\n",
        "import glob \n",
        "\n",
        "plt.figure(figsize=(15, 5))\n",
        "librosa.display.waveplot(data, sr=sampling_rate)"
      ],
      "execution_count": null,
      "outputs": []
    },
    {
      "cell_type": "markdown",
      "metadata": {
        "id": "DpPB8-1eVhhh"
      },
      "source": [
        "## Predicting the Speech emotion of recorded audio"
      ]
    },
    {
      "cell_type": "code",
      "metadata": {
        "id": "wNpc8CPBVhhh"
      },
      "source": [
        "file = 'recordedAudio.wav'\n",
        "data , sr = librosa.load(file)\n",
        "data = np.array(data)\n",
        "ans =[]\n",
        "new_feature  = extract_feature(file, mfcc=True, chroma=True, mel=True)\n",
        "ans.append(new_feature)\n",
        "ans = np.array(ans)\n",
        "\n",
        "\n",
        "VoiceEmotionRecogModel.predict(ans)"
      ],
      "execution_count": null,
      "outputs": []
    }
  ]
}